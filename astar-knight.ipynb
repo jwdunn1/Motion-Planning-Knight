{
 "cells": [
  {
   "cell_type": "code",
   "execution_count": 1,
   "metadata": {},
   "outputs": [],
   "source": [
    "import numpy as np\n",
    "from planning_utilsX import a_star, a_star2, heuristic, create_grid"
   ]
  },
  {
   "cell_type": "code",
   "execution_count": 2,
   "metadata": {},
   "outputs": [],
   "source": [
    "def colinear(p1, p2, p3): \n",
    "    colinear = False\n",
    "    det = p1[0]*(p2[1] - p3[1]) + p2[0]*(p3[1] - p1[1]) + p3[0]*(p1[1] - p2[1])\n",
    "    if det == 0:\n",
    "        colinear = True\n",
    "    return colinear\n",
    "\n",
    "def prune(path):\n",
    "    prunedpath = []\n",
    "    if len(path) > 0:\n",
    "        prunedpath.append(path[0])\n",
    "        for i in range(len(path)):\n",
    "            if i > 1:\n",
    "                if not colinear(path[i-2], path[i-1], path[i]):\n",
    "                    prunedpath.append(path[i-1])\n",
    "        prunedpath.append(path[i])\n",
    "    return prunedpath"
   ]
  },
  {
   "cell_type": "code",
   "execution_count": 3,
   "metadata": {},
   "outputs": [
    {
     "name": "stdout",
     "output_type": "stream",
     "text": [
      "North offset = -316, east offset = -445\n",
      "Local Start and Goal:  (316, 445) (819, 294)\n"
     ]
    }
   ],
   "source": [
    "TARGET_ALTITUDE = 5\n",
    "SAFETY_DISTANCE = 5\n",
    "\n",
    "# Read in obstacle map\n",
    "data = np.loadtxt('colliders.csv', delimiter=',', dtype='Float64', skiprows=2)\n",
    "\n",
    "# Define a grid for a particular altitude and safety margin around obstacles\n",
    "grid, north_offset, east_offset = create_grid(data, TARGET_ALTITUDE, SAFETY_DISTANCE)\n",
    "print(\"North offset = {0}, east offset = {1}\".format(north_offset, east_offset))\n",
    "# Define starting point on the grid (at grid center)\n",
    "grid_start = (-north_offset, -east_offset)\n",
    "# Set goal\n",
    "grid_goal = (-north_offset + 503, -east_offset - 151)\n",
    "\n",
    "# Run A* to find a path from start to goal\n",
    "print('Local Start and Goal: ', grid_start, grid_goal)\n",
    "\n",
    "\n"
   ]
  },
  {
   "cell_type": "code",
   "execution_count": 4,
   "metadata": {
    "scrolled": true
   },
   "outputs": [
    {
     "name": "stdout",
     "output_type": "stream",
     "text": [
      "Found a path on the grid. Cycles: 112254\n",
      "cost: 138819.2437741897\n",
      "0, 0\n",
      "22, -22\n",
      "25, -22\n",
      "28, -19\n",
      "80, -19\n",
      "128, -67\n",
      "130, -67\n",
      "158, -39\n",
      "250, -39\n",
      "274, -63\n",
      "278, -59\n",
      "320, -59\n",
      "324, -63\n",
      "328, -59\n",
      "390, -59\n",
      "429, -98\n",
      "438, -89\n",
      "480, -89\n",
      "500, -109\n",
      "500, -139\n",
      "503, -142\n",
      "503, -151\n"
     ]
    }
   ],
   "source": [
    "# Old A* with non-Knight (plot in blue)\n",
    "path, cost = a_star(grid, heuristic, grid_start, grid_goal, False)\n",
    "print(\"cost:\", cost)\n",
    "\n",
    "# Convert path to waypoints\n",
    "waypoints = [[p[0] + north_offset, p[1] + east_offset] for p in path]\n",
    "waypointsB = prune(waypoints)\n",
    "for p in waypointsB:\n",
    "    print(\"{0}, {1}\".format(p[0], p[1]))"
   ]
  },
  {
   "cell_type": "code",
   "execution_count": 5,
   "metadata": {
    "scrolled": true
   },
   "outputs": [
    {
     "name": "stdout",
     "output_type": "stream",
     "text": [
      "Found a path on the grid. Cycles: 30959\n",
      "cost: 599.1614716074885\n",
      "0, 0\n",
      "67, 0\n",
      "68, -1\n",
      "98, -1\n",
      "108, -11\n",
      "168, -11\n",
      "178, -21\n",
      "208, -21\n",
      "218, -31\n",
      "240, -31\n",
      "241, -32\n",
      "242, -32\n",
      "243, -33\n",
      "244, -33\n",
      "245, -34\n",
      "247, -34\n",
      "248, -35\n",
      "249, -35\n",
      "250, -36\n",
      "251, -36\n",
      "252, -37\n",
      "253, -37\n",
      "254, -38\n",
      "255, -38\n",
      "256, -39\n",
      "257, -39\n",
      "258, -40\n",
      "260, -40\n",
      "261, -41\n",
      "262, -41\n",
      "263, -42\n",
      "264, -42\n",
      "265, -43\n",
      "266, -43\n",
      "267, -44\n",
      "268, -44\n",
      "269, -45\n",
      "271, -45\n",
      "272, -46\n",
      "273, -46\n",
      "274, -47\n",
      "275, -47\n",
      "276, -48\n",
      "277, -48\n",
      "278, -49\n",
      "279, -49\n",
      "280, -50\n",
      "282, -50\n",
      "283, -51\n",
      "284, -51\n",
      "285, -52\n",
      "286, -52\n",
      "287, -53\n",
      "288, -53\n",
      "289, -54\n",
      "290, -54\n",
      "291, -55\n",
      "293, -55\n",
      "294, -56\n",
      "295, -56\n",
      "296, -57\n",
      "297, -57\n",
      "298, -58\n",
      "299, -58\n",
      "300, -59\n",
      "320, -59\n",
      "324, -63\n",
      "328, -59\n",
      "390, -59\n",
      "429, -98\n",
      "438, -89\n",
      "480, -89\n",
      "500, -109\n",
      "500, -145\n",
      "501, -146\n",
      "501, -147\n",
      "502, -148\n",
      "502, -150\n",
      "503, -151\n"
     ]
    }
   ],
   "source": [
    "# New A* with non-Knight (plot in red)\n",
    "path, cost = a_star2(grid, heuristic, grid_start, grid_goal, False)\n",
    "print(\"cost:\", cost)\n",
    "\n",
    "# Convert path to waypoints\n",
    "waypoints = [[p[0] + north_offset, p[1] + east_offset] for p in path]\n",
    "waypointsR = prune(waypoints)\n",
    "for p in waypointsR:\n",
    "    print(\"{0}, {1}\".format(p[0], p[1]))"
   ]
  },
  {
   "cell_type": "code",
   "execution_count": 6,
   "metadata": {
    "scrolled": true
   },
   "outputs": [
    {
     "name": "stdout",
     "output_type": "stream",
     "text": [
      "Found a path on the grid. Cycles: 28591\n",
      "cost: 589.9862435434165\n",
      "0, 0\n",
      "36, -18\n",
      "38, -18\n",
      "40, -19\n",
      "79, -19\n",
      "139, -49\n",
      "159, -39\n",
      "249, -39\n",
      "289, -59\n",
      "319, -59\n",
      "323, -61\n",
      "329, -58\n",
      "331, -59\n",
      "389, -59\n",
      "391, -60\n",
      "423, -92\n",
      "427, -94\n",
      "439, -88\n",
      "441, -89\n",
      "479, -89\n",
      "481, -90\n",
      "490, -108\n",
      "491, -108\n",
      "493, -109\n",
      "500, -109\n",
      "500, -140\n",
      "501, -142\n",
      "501, -145\n",
      "502, -147\n",
      "502, -149\n",
      "503, -151\n"
     ]
    }
   ],
   "source": [
    "# New A* with Knight (plot in green)\n",
    "path, cost = a_star2(grid, heuristic, grid_start, grid_goal, True)\n",
    "print(\"cost:\", cost)\n",
    "\n",
    "# Convert path to waypoints\n",
    "waypoints = [[p[0] + north_offset, p[1] + east_offset] for p in path]\n",
    "waypointsG = prune(waypoints)\n",
    "for p in waypointsG:\n",
    "    print(\"{0}, {1}\".format(p[0], p[1]))\n"
   ]
  },
  {
   "cell_type": "code",
   "execution_count": 9,
   "metadata": {},
   "outputs": [
    {
     "data": {
      "image/png": "[encoded data removed]",
      "text/plain": [
       "<matplotlib.figure.Figure at 0x8846b00>"
      ]
     },
     "metadata": {},
     "output_type": "display_data"
    }
   ],
   "source": [
    "import matplotlib.pyplot as plt\n",
    "\n",
    "plt.plot([p[0] for p in waypointsB], [p[1] for p in waypointsB], linewidth=1, c='b')\n",
    "plt.plot([p[0] for p in waypointsR], [p[1] for p in waypointsR], linewidth=1, c='r')\n",
    "plt.plot([p[0] for p in waypointsG], [p[1] for p in waypointsG], linewidth=1, c='g')\n",
    "\n",
    "fig = plt.gcf()\n",
    "fig.set_size_inches(16, 4.95)\n",
    "plt.xlabel(\"North\")\n",
    "plt.ylabel(\"East\")\n",
    "plt.gca().invert_yaxis()\n",
    "plt.show()"
   ]
  },
  {
   "cell_type": "code",
   "execution_count": 10,
   "metadata": {},
   "outputs": [
    {
     "data": {
      "image/png": "[encoded data removed]",
      "text/plain": [
       "<matplotlib.figure.Figure at 0x591be48>"
      ]
     },
     "metadata": {},
     "output_type": "display_data"
    }
   ],
   "source": [
    "import matplotlib.pyplot as plt\n",
    "\n",
    "gridshow, north_offset, east_offset = create_grid(data, 0, 0)\n",
    "\n",
    "im = plt.imshow(gridshow[316:819,294:445], cmap='binary')\n",
    "plt.plot([p[1]-east_offset-294 for p in waypointsB], [p[0] for p in waypointsB], linewidth=1, c='b')\n",
    "plt.plot([p[1]-east_offset-294 for p in waypointsR], [p[0] for p in waypointsR], linewidth=1, c='r')\n",
    "plt.plot([p[1]-east_offset-294 for p in waypointsG], [p[0] for p in waypointsG], linewidth=1, c='g')\n",
    "\n",
    "fig = plt.gcf()\n",
    "fig.set_size_inches(4.95, 16)\n",
    "plt.xlabel(\"East\")\n",
    "plt.ylabel(\"North\")\n",
    "plt.gca().invert_yaxis()\n",
    "plt.show()"
   ]
  },
  {
   "cell_type": "code",
   "execution_count": null,
   "metadata": {},
   "outputs": [],
   "source": []
  }
 ],
 "metadata": {
  "kernelspec": {
   "display_name": "Python 3",
   "language": "python",
   "name": "python3"
  },
  "language_info": {
   "codemirror_mode": {
    "name": "ipython",
    "version": 3
   },
   "file_extension": ".py",
   "mimetype": "text/x-python",
   "name": "python",
   "nbconvert_exporter": "python",
   "pygments_lexer": "ipython3",
   "version": "3.6.3"
  }
 },
 "nbformat": 4,
 "nbformat_minor": 2
}
